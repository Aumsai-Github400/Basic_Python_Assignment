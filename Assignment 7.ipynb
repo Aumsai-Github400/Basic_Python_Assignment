{
  "metadata": {
    "language_info": {
      "codemirror_mode": {
        "name": "python",
        "version": 3
      },
      "file_extension": ".py",
      "mimetype": "text/x-python",
      "name": "python",
      "nbconvert_exporter": "python",
      "pygments_lexer": "ipython3",
      "version": "3.8"
    },
    "kernelspec": {
      "name": "python",
      "display_name": "Pyolite",
      "language": "python"
    }
  },
  "nbformat_minor": 4,
  "nbformat": 4,
  "cells": [
    {
      "cell_type": "markdown",
      "source": "**Assignment 7**",
      "metadata": {}
    },
    {
      "cell_type": "raw",
      "source": "1.What is the name of the feature responsible for generating Regex objects?",
      "metadata": {}
    },
    {
      "cell_type": "markdown",
      "source": "Ans. The re.compile() function returns Regex objects.",
      "metadata": {}
    },
    {
      "cell_type": "raw",
      "source": "2.Why do raw strings often appear in Regex objects",
      "metadata": {}
    },
    {
      "cell_type": "markdown",
      "source": "Ans. Raw strings are used so that backslashes do not have to be escaped.",
      "metadata": {}
    },
    {
      "cell_type": "raw",
      "source": "3. What is the return value of the search() method?",
      "metadata": {}
    },
    {
      "cell_type": "markdown",
      "source": "Ans. The search() method returns Match objects.",
      "metadata": {}
    },
    {
      "cell_type": "raw",
      "source": "4. From a Match item, how do you get the actual strings that match the pattern?",
      "metadata": {}
    },
    {
      "cell_type": "markdown",
      "source": "Ans. The group() method returns strings of the matched text.",
      "metadata": {}
    },
    {
      "cell_type": "raw",
      "source": "5. In the regex which created from the r'(\\d\\d\\d)-(\\d\\d\\d-\\d\\d\\d\\d)', what does group zero cover? Group 2? Group 1?",
      "metadata": {}
    },
    {
      "cell_type": "markdown",
      "source": "Ans. Group 0 is the entire match, group 1 covers the first set of parentheses, and group 2 covers the second set of parentheses.",
      "metadata": {}
    },
    {
      "cell_type": "raw",
      "source": "6. In standard expression syntax, parentheses and intervals have distinct meanings. How can you tell a regex that you want it to fit real parentheses and periods?",
      "metadata": {}
    },
    {
      "cell_type": "markdown",
      "source": "Ans. Periods and parentheses can be escaped with a backslash: \\., \\(, and \\).",
      "metadata": {}
    },
    {
      "cell_type": "raw",
      "source": "7. The findall() method returns a string list or a list of string tuples. What causes it to return one of the two options?",
      "metadata": {}
    },
    {
      "cell_type": "markdown",
      "source": "Ans. If the regex has no groups, a list of strings is returned. If the regex has groups, a list of tuples of strings is returned.",
      "metadata": {}
    },
    {
      "cell_type": "raw",
      "source": "8. In standard expressions, what does the | character mean?",
      "metadata": {}
    },
    {
      "cell_type": "markdown",
      "source": "Ans. The | character signifies matching \"either, or\" between two groups.",
      "metadata": {}
    },
    {
      "cell_type": "raw",
      "source": "9. In regular expressions, what does the character stand for?",
      "metadata": {}
    },
    {
      "cell_type": "markdown",
      "source": "Ans. The ? character can either mean \"match zero or one of the preceding group\" or be used to signify nongreedy matching.",
      "metadata": {}
    },
    {
      "cell_type": "raw",
      "source": "10.In regular expressions, what is the difference between the + and * characters?",
      "metadata": {}
    },
    {
      "cell_type": "markdown",
      "source": "Ans. The + matches one or more. The * matches zero or more.",
      "metadata": {}
    },
    {
      "cell_type": "raw",
      "source": "11. What is the difference between {4} and {4,5} in regular expression?",
      "metadata": {}
    },
    {
      "cell_type": "markdown",
      "source": "Ans. The {4} matches exactly three instances of the preceding group. The {4,5} matches between three and five instances.",
      "metadata": {}
    },
    {
      "cell_type": "raw",
      "source": "12. What do you mean by the \\d, \\w, and \\s shorthand character classes signify in regular expressions?",
      "metadata": {}
    },
    {
      "cell_type": "markdown",
      "source": "Ans. The \\d, \\w, and \\s shorthand character classes match a single digit, word, or space character, respectively.",
      "metadata": {}
    },
    {
      "cell_type": "raw",
      "source": "13. What do means by \\D, \\W, and \\S shorthand character classes signify in regular expressions?",
      "metadata": {}
    },
    {
      "cell_type": "markdown",
      "source": "Ans. The \\D, \\W, and \\S shorthand character classes match a single character that is not a digit, word, or space character, respectively.",
      "metadata": {}
    },
    {
      "cell_type": "raw",
      "source": "14. What is the difference between .*? and .*?",
      "metadata": {}
    },
    {
      "cell_type": "markdown",
      "source": "* Dont understand Question both are .*?",
      "metadata": {}
    },
    {
      "cell_type": "raw",
      "source": "15. What is the syntax for matching both numbers and lowercase letters with a character class?",
      "metadata": {}
    },
    {
      "cell_type": "markdown",
      "source": "Ans. Either [0-9a-z] or [a-z0-9]",
      "metadata": {}
    },
    {
      "cell_type": "raw",
      "source": "16. What is the procedure for making a normal expression in regax case insensitive?",
      "metadata": {}
    },
    {
      "cell_type": "markdown",
      "source": "Ans. Passing re.I or re.IGNORECASE as the second argument to re.compile() will make the matching case insensitive.",
      "metadata": {}
    },
    {
      "cell_type": "raw",
      "source": "17. What does the . character normally match? What does it match if re.DOTALL is passed as 2nd argument in re.compile()?",
      "metadata": {}
    },
    {
      "cell_type": "markdown",
      "source": "Ans. The . character normally matches any character except the newline character. If re.DOTALL is passed as the second argument to re.compile(), then the dot will also match newline characters.",
      "metadata": {}
    },
    {
      "cell_type": "raw",
      "source": "18. If numReg = re.compile(r'\\d+'), what will numRegex.sub('X', '11 drummers, 10 pipers, five rings, 4 hen') return?",
      "metadata": {}
    },
    {
      "cell_type": "raw",
      "source": "19. What does passing re.VERBOSE as the 2nd argument to re.compile() allow to do?",
      "metadata": {}
    },
    {
      "cell_type": "markdown",
      "source": "Ans. The re.VERBOSE argument allows you to add whitespace and comments to the string passed to re.compile().",
      "metadata": {}
    },
    {
      "cell_type": "raw",
      "source": "20. How would you write a regex that match a number with comma for every three digits? It must match the given following:\n'42'\n'1,234'\n'6,368,745'\nbut not the following:\n'12,34,567' (which has only two digits between the commas)\n'1234' (which lacks commas)",
      "metadata": {}
    },
    {
      "cell_type": "markdown",
      "source": "Ans. re.compile(r'^\\d{1,3}(,\\d{3})*$') will create this regex, but other regex strings can produce a similar regular expression.",
      "metadata": {}
    },
    {
      "cell_type": "raw",
      "source": "21. How would you write a regex that matches the full name of someone whose last name is Watanabe? You can assume that the first name that comes before it will always be one word that begins with a capital letter. The regex must match the following:\n'Haruto Watanabe'\n'Alice Watanabe'\n'RoboCop Watanabe'\nbut not the following:\n'haruto Watanabe' (where the first name is not capitalized)\n'Mr. Watanabe' (where the preceding word has a nonletter character)\n'Watanabe' (which has no first name)\n'Haruto watanabe' (where Watanabe is not capitalized)",
      "metadata": {}
    },
    {
      "cell_type": "markdown",
      "source": "Ans. re.compile(r'[A-Z][a-z]*\\sWatanabe')",
      "metadata": {}
    },
    {
      "cell_type": "raw",
      "source": "22. How would you write a regex that matches a sentence where the first word is either Alice, Bob, or Carol; the second word is either eats, pets, or throws; the third word is apples, cats, or baseballs; and the sentence ends with a period? This regex should be case-insensitive. It must match the following:\n'Alice eats apples.'\n'Bob pets cats.'\n'Carol throws baseballs.'\n'Alice throws Apples.'\n'BOB EATS CATS.'\nbut not the following:\n'RoboCop eats apples.'\n'ALICE THROWS FOOTBALLS.'\n'Carol eats 7 cats.'",
      "metadata": {}
    },
    {
      "cell_type": "markdown",
      "source": "Ans. re.compile(r'(Alice|Bob|Carol)\\s(eats|pets|throws)\\s(apples|cats|baseballs)\\.', re.IGNORECASE)",
      "metadata": {}
    }
  ]
}